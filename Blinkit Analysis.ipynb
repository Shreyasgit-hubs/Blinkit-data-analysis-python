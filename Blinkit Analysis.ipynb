{
 "cells": [
  {
   "cell_type": "markdown",
   "id": "39047cf5-2f26-4631-b46e-aa7322b844c9",
   "metadata": {},
   "source": [
    "# **DATA ANALYSIS PYTHON PROJECT - BLINKIT ANALYSIS**"
   ]
  },
  {
   "cell_type": "markdown",
   "id": "24449122-fabc-46ee-b315-24f886615333",
   "metadata": {},
   "source": [
    "### **Import Libraries**"
   ]
  },
  {
   "cell_type": "code",
   "execution_count": 2,
   "id": "1d385457-6175-48c8-851e-96f0d4c3cd03",
   "metadata": {},
   "outputs": [],
   "source": [
    "import pandas as pd\n",
    "import numpy as np\n",
    "import matplotlib.pyplot as plt\n",
    "import seaborn as sns"
   ]
  },
  {
   "cell_type": "markdown",
   "id": "221a15d5-2e4e-4e38-b53f-fbef515ff408",
   "metadata": {},
   "source": [
    "### **Import Raw Data**"
   ]
  },
  {
   "cell_type": "code",
   "execution_count": 3,
   "id": "d0beb52d-f1f9-4686-a22d-e2e1c4c36f74",
   "metadata": {},
   "outputs": [],
   "source": [
    "df = pd.read_csv(\"D:/Blinkit python project/blinkit_data.csv\")"
   ]
  },
  {
   "cell_type": "markdown",
   "id": "f9736c83-eaad-42e8-86b9-7db40ec281c3",
   "metadata": {},
   "source": [
    "### **Sample Data**"
   ]
  },
  {
   "cell_type": "code",
   "execution_count": 4,
   "id": "6a9b58f2-89fb-456f-b540-58bb70ac3d16",
   "metadata": {},
   "outputs": [
    {
     "data": {
      "text/html": [
       "<div>\n",
       "<style scoped>\n",
       "    .dataframe tbody tr th:only-of-type {\n",
       "        vertical-align: middle;\n",
       "    }\n",
       "\n",
       "    .dataframe tbody tr th {\n",
       "        vertical-align: top;\n",
       "    }\n",
       "\n",
       "    .dataframe thead th {\n",
       "        text-align: right;\n",
       "    }\n",
       "</style>\n",
       "<table border=\"1\" class=\"dataframe\">\n",
       "  <thead>\n",
       "    <tr style=\"text-align: right;\">\n",
       "      <th></th>\n",
       "      <th>Item Fat Content</th>\n",
       "      <th>Item Identifier</th>\n",
       "      <th>Item Type</th>\n",
       "      <th>Outlet Establishment Year</th>\n",
       "      <th>Outlet Identifier</th>\n",
       "      <th>Outlet Location Type</th>\n",
       "      <th>Outlet Size</th>\n",
       "      <th>Outlet Type</th>\n",
       "      <th>Item Visibility</th>\n",
       "      <th>Item Weight</th>\n",
       "      <th>Sales</th>\n",
       "      <th>Rating</th>\n",
       "    </tr>\n",
       "  </thead>\n",
       "  <tbody>\n",
       "    <tr>\n",
       "      <th>0</th>\n",
       "      <td>Regular</td>\n",
       "      <td>FDX32</td>\n",
       "      <td>Fruits and Vegetables</td>\n",
       "      <td>2012</td>\n",
       "      <td>OUT049</td>\n",
       "      <td>Tier 1</td>\n",
       "      <td>Medium</td>\n",
       "      <td>Supermarket Type1</td>\n",
       "      <td>0.100014</td>\n",
       "      <td>15.10</td>\n",
       "      <td>145.4786</td>\n",
       "      <td>5.0</td>\n",
       "    </tr>\n",
       "    <tr>\n",
       "      <th>1</th>\n",
       "      <td>Low Fat</td>\n",
       "      <td>NCB42</td>\n",
       "      <td>Health and Hygiene</td>\n",
       "      <td>2022</td>\n",
       "      <td>OUT018</td>\n",
       "      <td>Tier 3</td>\n",
       "      <td>Medium</td>\n",
       "      <td>Supermarket Type2</td>\n",
       "      <td>0.008596</td>\n",
       "      <td>11.80</td>\n",
       "      <td>115.3492</td>\n",
       "      <td>5.0</td>\n",
       "    </tr>\n",
       "    <tr>\n",
       "      <th>2</th>\n",
       "      <td>Regular</td>\n",
       "      <td>FDR28</td>\n",
       "      <td>Frozen Foods</td>\n",
       "      <td>2010</td>\n",
       "      <td>OUT046</td>\n",
       "      <td>Tier 1</td>\n",
       "      <td>Small</td>\n",
       "      <td>Supermarket Type1</td>\n",
       "      <td>0.025896</td>\n",
       "      <td>13.85</td>\n",
       "      <td>165.0210</td>\n",
       "      <td>5.0</td>\n",
       "    </tr>\n",
       "    <tr>\n",
       "      <th>3</th>\n",
       "      <td>Regular</td>\n",
       "      <td>FDL50</td>\n",
       "      <td>Canned</td>\n",
       "      <td>2000</td>\n",
       "      <td>OUT013</td>\n",
       "      <td>Tier 3</td>\n",
       "      <td>High</td>\n",
       "      <td>Supermarket Type1</td>\n",
       "      <td>0.042278</td>\n",
       "      <td>12.15</td>\n",
       "      <td>126.5046</td>\n",
       "      <td>5.0</td>\n",
       "    </tr>\n",
       "    <tr>\n",
       "      <th>4</th>\n",
       "      <td>Low Fat</td>\n",
       "      <td>DRI25</td>\n",
       "      <td>Soft Drinks</td>\n",
       "      <td>2015</td>\n",
       "      <td>OUT045</td>\n",
       "      <td>Tier 2</td>\n",
       "      <td>Small</td>\n",
       "      <td>Supermarket Type1</td>\n",
       "      <td>0.033970</td>\n",
       "      <td>19.60</td>\n",
       "      <td>55.1614</td>\n",
       "      <td>5.0</td>\n",
       "    </tr>\n",
       "    <tr>\n",
       "      <th>5</th>\n",
       "      <td>low fat</td>\n",
       "      <td>FDS52</td>\n",
       "      <td>Frozen Foods</td>\n",
       "      <td>2020</td>\n",
       "      <td>OUT017</td>\n",
       "      <td>Tier 2</td>\n",
       "      <td>Small</td>\n",
       "      <td>Supermarket Type1</td>\n",
       "      <td>0.005505</td>\n",
       "      <td>8.89</td>\n",
       "      <td>102.4016</td>\n",
       "      <td>5.0</td>\n",
       "    </tr>\n",
       "    <tr>\n",
       "      <th>6</th>\n",
       "      <td>Low Fat</td>\n",
       "      <td>NCU05</td>\n",
       "      <td>Health and Hygiene</td>\n",
       "      <td>2011</td>\n",
       "      <td>OUT010</td>\n",
       "      <td>Tier 3</td>\n",
       "      <td>Small</td>\n",
       "      <td>Grocery Store</td>\n",
       "      <td>0.098312</td>\n",
       "      <td>11.80</td>\n",
       "      <td>81.4618</td>\n",
       "      <td>5.0</td>\n",
       "    </tr>\n",
       "    <tr>\n",
       "      <th>7</th>\n",
       "      <td>Low Fat</td>\n",
       "      <td>NCD30</td>\n",
       "      <td>Household</td>\n",
       "      <td>2015</td>\n",
       "      <td>OUT045</td>\n",
       "      <td>Tier 2</td>\n",
       "      <td>Small</td>\n",
       "      <td>Supermarket Type1</td>\n",
       "      <td>0.026904</td>\n",
       "      <td>19.70</td>\n",
       "      <td>96.0726</td>\n",
       "      <td>5.0</td>\n",
       "    </tr>\n",
       "    <tr>\n",
       "      <th>8</th>\n",
       "      <td>Low Fat</td>\n",
       "      <td>FDW20</td>\n",
       "      <td>Fruits and Vegetables</td>\n",
       "      <td>2000</td>\n",
       "      <td>OUT013</td>\n",
       "      <td>Tier 3</td>\n",
       "      <td>High</td>\n",
       "      <td>Supermarket Type1</td>\n",
       "      <td>0.024129</td>\n",
       "      <td>20.75</td>\n",
       "      <td>124.1730</td>\n",
       "      <td>5.0</td>\n",
       "    </tr>\n",
       "    <tr>\n",
       "      <th>9</th>\n",
       "      <td>Low Fat</td>\n",
       "      <td>FDX25</td>\n",
       "      <td>Canned</td>\n",
       "      <td>1998</td>\n",
       "      <td>OUT027</td>\n",
       "      <td>Tier 3</td>\n",
       "      <td>Medium</td>\n",
       "      <td>Supermarket Type3</td>\n",
       "      <td>0.101562</td>\n",
       "      <td>NaN</td>\n",
       "      <td>181.9292</td>\n",
       "      <td>5.0</td>\n",
       "    </tr>\n",
       "  </tbody>\n",
       "</table>\n",
       "</div>"
      ],
      "text/plain": [
       "  Item Fat Content Item Identifier              Item Type  \\\n",
       "0          Regular           FDX32  Fruits and Vegetables   \n",
       "1          Low Fat           NCB42     Health and Hygiene   \n",
       "2          Regular           FDR28           Frozen Foods   \n",
       "3          Regular           FDL50                 Canned   \n",
       "4          Low Fat           DRI25            Soft Drinks   \n",
       "5          low fat           FDS52           Frozen Foods   \n",
       "6          Low Fat           NCU05     Health and Hygiene   \n",
       "7          Low Fat           NCD30              Household   \n",
       "8          Low Fat           FDW20  Fruits and Vegetables   \n",
       "9          Low Fat           FDX25                 Canned   \n",
       "\n",
       "   Outlet Establishment Year Outlet Identifier Outlet Location Type  \\\n",
       "0                       2012            OUT049               Tier 1   \n",
       "1                       2022            OUT018               Tier 3   \n",
       "2                       2010            OUT046               Tier 1   \n",
       "3                       2000            OUT013               Tier 3   \n",
       "4                       2015            OUT045               Tier 2   \n",
       "5                       2020            OUT017               Tier 2   \n",
       "6                       2011            OUT010               Tier 3   \n",
       "7                       2015            OUT045               Tier 2   \n",
       "8                       2000            OUT013               Tier 3   \n",
       "9                       1998            OUT027               Tier 3   \n",
       "\n",
       "  Outlet Size        Outlet Type  Item Visibility  Item Weight     Sales  \\\n",
       "0      Medium  Supermarket Type1         0.100014        15.10  145.4786   \n",
       "1      Medium  Supermarket Type2         0.008596        11.80  115.3492   \n",
       "2       Small  Supermarket Type1         0.025896        13.85  165.0210   \n",
       "3        High  Supermarket Type1         0.042278        12.15  126.5046   \n",
       "4       Small  Supermarket Type1         0.033970        19.60   55.1614   \n",
       "5       Small  Supermarket Type1         0.005505         8.89  102.4016   \n",
       "6       Small      Grocery Store         0.098312        11.80   81.4618   \n",
       "7       Small  Supermarket Type1         0.026904        19.70   96.0726   \n",
       "8        High  Supermarket Type1         0.024129        20.75  124.1730   \n",
       "9      Medium  Supermarket Type3         0.101562          NaN  181.9292   \n",
       "\n",
       "   Rating  \n",
       "0     5.0  \n",
       "1     5.0  \n",
       "2     5.0  \n",
       "3     5.0  \n",
       "4     5.0  \n",
       "5     5.0  \n",
       "6     5.0  \n",
       "7     5.0  \n",
       "8     5.0  \n",
       "9     5.0  "
      ]
     },
     "execution_count": 4,
     "metadata": {},
     "output_type": "execute_result"
    }
   ],
   "source": [
    "df.head(10)"
   ]
  },
  {
   "cell_type": "code",
   "execution_count": 5,
   "id": "a1b00715-0cf5-43af-bcce-70b5c0eb8ba8",
   "metadata": {},
   "outputs": [
    {
     "data": {
      "text/html": [
       "<div>\n",
       "<style scoped>\n",
       "    .dataframe tbody tr th:only-of-type {\n",
       "        vertical-align: middle;\n",
       "    }\n",
       "\n",
       "    .dataframe tbody tr th {\n",
       "        vertical-align: top;\n",
       "    }\n",
       "\n",
       "    .dataframe thead th {\n",
       "        text-align: right;\n",
       "    }\n",
       "</style>\n",
       "<table border=\"1\" class=\"dataframe\">\n",
       "  <thead>\n",
       "    <tr style=\"text-align: right;\">\n",
       "      <th></th>\n",
       "      <th>Item Fat Content</th>\n",
       "      <th>Item Identifier</th>\n",
       "      <th>Item Type</th>\n",
       "      <th>Outlet Establishment Year</th>\n",
       "      <th>Outlet Identifier</th>\n",
       "      <th>Outlet Location Type</th>\n",
       "      <th>Outlet Size</th>\n",
       "      <th>Outlet Type</th>\n",
       "      <th>Item Visibility</th>\n",
       "      <th>Item Weight</th>\n",
       "      <th>Sales</th>\n",
       "      <th>Rating</th>\n",
       "    </tr>\n",
       "  </thead>\n",
       "  <tbody>\n",
       "    <tr>\n",
       "      <th>0</th>\n",
       "      <td>Regular</td>\n",
       "      <td>FDX32</td>\n",
       "      <td>Fruits and Vegetables</td>\n",
       "      <td>2012</td>\n",
       "      <td>OUT049</td>\n",
       "      <td>Tier 1</td>\n",
       "      <td>Medium</td>\n",
       "      <td>Supermarket Type1</td>\n",
       "      <td>0.100014</td>\n",
       "      <td>15.10</td>\n",
       "      <td>145.4786</td>\n",
       "      <td>5.0</td>\n",
       "    </tr>\n",
       "    <tr>\n",
       "      <th>1</th>\n",
       "      <td>Low Fat</td>\n",
       "      <td>NCB42</td>\n",
       "      <td>Health and Hygiene</td>\n",
       "      <td>2022</td>\n",
       "      <td>OUT018</td>\n",
       "      <td>Tier 3</td>\n",
       "      <td>Medium</td>\n",
       "      <td>Supermarket Type2</td>\n",
       "      <td>0.008596</td>\n",
       "      <td>11.80</td>\n",
       "      <td>115.3492</td>\n",
       "      <td>5.0</td>\n",
       "    </tr>\n",
       "    <tr>\n",
       "      <th>2</th>\n",
       "      <td>Regular</td>\n",
       "      <td>FDR28</td>\n",
       "      <td>Frozen Foods</td>\n",
       "      <td>2010</td>\n",
       "      <td>OUT046</td>\n",
       "      <td>Tier 1</td>\n",
       "      <td>Small</td>\n",
       "      <td>Supermarket Type1</td>\n",
       "      <td>0.025896</td>\n",
       "      <td>13.85</td>\n",
       "      <td>165.0210</td>\n",
       "      <td>5.0</td>\n",
       "    </tr>\n",
       "    <tr>\n",
       "      <th>3</th>\n",
       "      <td>Regular</td>\n",
       "      <td>FDL50</td>\n",
       "      <td>Canned</td>\n",
       "      <td>2000</td>\n",
       "      <td>OUT013</td>\n",
       "      <td>Tier 3</td>\n",
       "      <td>High</td>\n",
       "      <td>Supermarket Type1</td>\n",
       "      <td>0.042278</td>\n",
       "      <td>12.15</td>\n",
       "      <td>126.5046</td>\n",
       "      <td>5.0</td>\n",
       "    </tr>\n",
       "    <tr>\n",
       "      <th>4</th>\n",
       "      <td>Low Fat</td>\n",
       "      <td>DRI25</td>\n",
       "      <td>Soft Drinks</td>\n",
       "      <td>2015</td>\n",
       "      <td>OUT045</td>\n",
       "      <td>Tier 2</td>\n",
       "      <td>Small</td>\n",
       "      <td>Supermarket Type1</td>\n",
       "      <td>0.033970</td>\n",
       "      <td>19.60</td>\n",
       "      <td>55.1614</td>\n",
       "      <td>5.0</td>\n",
       "    </tr>\n",
       "    <tr>\n",
       "      <th>...</th>\n",
       "      <td>...</td>\n",
       "      <td>...</td>\n",
       "      <td>...</td>\n",
       "      <td>...</td>\n",
       "      <td>...</td>\n",
       "      <td>...</td>\n",
       "      <td>...</td>\n",
       "      <td>...</td>\n",
       "      <td>...</td>\n",
       "      <td>...</td>\n",
       "      <td>...</td>\n",
       "      <td>...</td>\n",
       "    </tr>\n",
       "    <tr>\n",
       "      <th>95</th>\n",
       "      <td>Low Fat</td>\n",
       "      <td>FDS55</td>\n",
       "      <td>Fruits and Vegetables</td>\n",
       "      <td>1998</td>\n",
       "      <td>OUT019</td>\n",
       "      <td>Tier 1</td>\n",
       "      <td>Small</td>\n",
       "      <td>Grocery Store</td>\n",
       "      <td>0.142108</td>\n",
       "      <td>NaN</td>\n",
       "      <td>150.3734</td>\n",
       "      <td>5.0</td>\n",
       "    </tr>\n",
       "    <tr>\n",
       "      <th>96</th>\n",
       "      <td>Low Fat</td>\n",
       "      <td>FDZ56</td>\n",
       "      <td>Fruits and Vegetables</td>\n",
       "      <td>1998</td>\n",
       "      <td>OUT019</td>\n",
       "      <td>Tier 1</td>\n",
       "      <td>Small</td>\n",
       "      <td>Grocery Store</td>\n",
       "      <td>0.045062</td>\n",
       "      <td>NaN</td>\n",
       "      <td>167.5474</td>\n",
       "      <td>5.0</td>\n",
       "    </tr>\n",
       "    <tr>\n",
       "      <th>97</th>\n",
       "      <td>Low Fat</td>\n",
       "      <td>NCA05</td>\n",
       "      <td>Health and Hygiene</td>\n",
       "      <td>1998</td>\n",
       "      <td>OUT019</td>\n",
       "      <td>Tier 1</td>\n",
       "      <td>Small</td>\n",
       "      <td>Grocery Store</td>\n",
       "      <td>0.044000</td>\n",
       "      <td>NaN</td>\n",
       "      <td>148.2734</td>\n",
       "      <td>5.0</td>\n",
       "    </tr>\n",
       "    <tr>\n",
       "      <th>98</th>\n",
       "      <td>Low Fat</td>\n",
       "      <td>NCK29</td>\n",
       "      <td>Health and Hygiene</td>\n",
       "      <td>1998</td>\n",
       "      <td>OUT019</td>\n",
       "      <td>Tier 1</td>\n",
       "      <td>Small</td>\n",
       "      <td>Grocery Store</td>\n",
       "      <td>0.000000</td>\n",
       "      <td>NaN</td>\n",
       "      <td>123.4730</td>\n",
       "      <td>5.0</td>\n",
       "    </tr>\n",
       "    <tr>\n",
       "      <th>99</th>\n",
       "      <td>Low Fat</td>\n",
       "      <td>NCU29</td>\n",
       "      <td>Health and Hygiene</td>\n",
       "      <td>1998</td>\n",
       "      <td>OUT019</td>\n",
       "      <td>Tier 1</td>\n",
       "      <td>Small</td>\n",
       "      <td>Grocery Store</td>\n",
       "      <td>0.044608</td>\n",
       "      <td>NaN</td>\n",
       "      <td>145.9760</td>\n",
       "      <td>5.0</td>\n",
       "    </tr>\n",
       "  </tbody>\n",
       "</table>\n",
       "<p>100 rows × 12 columns</p>\n",
       "</div>"
      ],
      "text/plain": [
       "   Item Fat Content Item Identifier              Item Type  \\\n",
       "0           Regular           FDX32  Fruits and Vegetables   \n",
       "1           Low Fat           NCB42     Health and Hygiene   \n",
       "2           Regular           FDR28           Frozen Foods   \n",
       "3           Regular           FDL50                 Canned   \n",
       "4           Low Fat           DRI25            Soft Drinks   \n",
       "..              ...             ...                    ...   \n",
       "95          Low Fat           FDS55  Fruits and Vegetables   \n",
       "96          Low Fat           FDZ56  Fruits and Vegetables   \n",
       "97          Low Fat           NCA05     Health and Hygiene   \n",
       "98          Low Fat           NCK29     Health and Hygiene   \n",
       "99          Low Fat           NCU29     Health and Hygiene   \n",
       "\n",
       "    Outlet Establishment Year Outlet Identifier Outlet Location Type  \\\n",
       "0                        2012            OUT049               Tier 1   \n",
       "1                        2022            OUT018               Tier 3   \n",
       "2                        2010            OUT046               Tier 1   \n",
       "3                        2000            OUT013               Tier 3   \n",
       "4                        2015            OUT045               Tier 2   \n",
       "..                        ...               ...                  ...   \n",
       "95                       1998            OUT019               Tier 1   \n",
       "96                       1998            OUT019               Tier 1   \n",
       "97                       1998            OUT019               Tier 1   \n",
       "98                       1998            OUT019               Tier 1   \n",
       "99                       1998            OUT019               Tier 1   \n",
       "\n",
       "   Outlet Size        Outlet Type  Item Visibility  Item Weight     Sales  \\\n",
       "0       Medium  Supermarket Type1         0.100014        15.10  145.4786   \n",
       "1       Medium  Supermarket Type2         0.008596        11.80  115.3492   \n",
       "2        Small  Supermarket Type1         0.025896        13.85  165.0210   \n",
       "3         High  Supermarket Type1         0.042278        12.15  126.5046   \n",
       "4        Small  Supermarket Type1         0.033970        19.60   55.1614   \n",
       "..         ...                ...              ...          ...       ...   \n",
       "95       Small      Grocery Store         0.142108          NaN  150.3734   \n",
       "96       Small      Grocery Store         0.045062          NaN  167.5474   \n",
       "97       Small      Grocery Store         0.044000          NaN  148.2734   \n",
       "98       Small      Grocery Store         0.000000          NaN  123.4730   \n",
       "99       Small      Grocery Store         0.044608          NaN  145.9760   \n",
       "\n",
       "    Rating  \n",
       "0      5.0  \n",
       "1      5.0  \n",
       "2      5.0  \n",
       "3      5.0  \n",
       "4      5.0  \n",
       "..     ...  \n",
       "95     5.0  \n",
       "96     5.0  \n",
       "97     5.0  \n",
       "98     5.0  \n",
       "99     5.0  \n",
       "\n",
       "[100 rows x 12 columns]"
      ]
     },
     "execution_count": 5,
     "metadata": {},
     "output_type": "execute_result"
    }
   ],
   "source": [
    "df.head(100)"
   ]
  },
  {
   "cell_type": "code",
   "execution_count": 6,
   "id": "c0ad122b-bd76-4830-be12-9ad5aa842838",
   "metadata": {},
   "outputs": [
    {
     "data": {
      "text/html": [
       "<div>\n",
       "<style scoped>\n",
       "    .dataframe tbody tr th:only-of-type {\n",
       "        vertical-align: middle;\n",
       "    }\n",
       "\n",
       "    .dataframe tbody tr th {\n",
       "        vertical-align: top;\n",
       "    }\n",
       "\n",
       "    .dataframe thead th {\n",
       "        text-align: right;\n",
       "    }\n",
       "</style>\n",
       "<table border=\"1\" class=\"dataframe\">\n",
       "  <thead>\n",
       "    <tr style=\"text-align: right;\">\n",
       "      <th></th>\n",
       "      <th>Item Fat Content</th>\n",
       "      <th>Item Identifier</th>\n",
       "      <th>Item Type</th>\n",
       "      <th>Outlet Establishment Year</th>\n",
       "      <th>Outlet Identifier</th>\n",
       "      <th>Outlet Location Type</th>\n",
       "      <th>Outlet Size</th>\n",
       "      <th>Outlet Type</th>\n",
       "      <th>Item Visibility</th>\n",
       "      <th>Item Weight</th>\n",
       "      <th>Sales</th>\n",
       "      <th>Rating</th>\n",
       "    </tr>\n",
       "  </thead>\n",
       "  <tbody>\n",
       "    <tr>\n",
       "      <th>8423</th>\n",
       "      <td>Low Fat</td>\n",
       "      <td>FDA22</td>\n",
       "      <td>Starchy Foods</td>\n",
       "      <td>1998</td>\n",
       "      <td>OUT027</td>\n",
       "      <td>Tier 3</td>\n",
       "      <td>Medium</td>\n",
       "      <td>Supermarket Type3</td>\n",
       "      <td>0.000000</td>\n",
       "      <td>NaN</td>\n",
       "      <td>167.5158</td>\n",
       "      <td>4.0</td>\n",
       "    </tr>\n",
       "    <tr>\n",
       "      <th>8424</th>\n",
       "      <td>Low Fat</td>\n",
       "      <td>FDD11</td>\n",
       "      <td>Starchy Foods</td>\n",
       "      <td>1998</td>\n",
       "      <td>OUT027</td>\n",
       "      <td>Tier 3</td>\n",
       "      <td>Medium</td>\n",
       "      <td>Supermarket Type3</td>\n",
       "      <td>0.030468</td>\n",
       "      <td>NaN</td>\n",
       "      <td>254.7040</td>\n",
       "      <td>4.0</td>\n",
       "    </tr>\n",
       "    <tr>\n",
       "      <th>8425</th>\n",
       "      <td>Low Fat</td>\n",
       "      <td>FDG59</td>\n",
       "      <td>Starchy Foods</td>\n",
       "      <td>1998</td>\n",
       "      <td>OUT027</td>\n",
       "      <td>Tier 3</td>\n",
       "      <td>Medium</td>\n",
       "      <td>Supermarket Type3</td>\n",
       "      <td>0.043025</td>\n",
       "      <td>NaN</td>\n",
       "      <td>37.6164</td>\n",
       "      <td>4.0</td>\n",
       "    </tr>\n",
       "    <tr>\n",
       "      <th>8426</th>\n",
       "      <td>Regular</td>\n",
       "      <td>FDA47</td>\n",
       "      <td>Baking Goods</td>\n",
       "      <td>1998</td>\n",
       "      <td>OUT027</td>\n",
       "      <td>Tier 3</td>\n",
       "      <td>Medium</td>\n",
       "      <td>Supermarket Type3</td>\n",
       "      <td>0.116109</td>\n",
       "      <td>NaN</td>\n",
       "      <td>164.1210</td>\n",
       "      <td>4.0</td>\n",
       "    </tr>\n",
       "    <tr>\n",
       "      <th>8427</th>\n",
       "      <td>Regular</td>\n",
       "      <td>FDB37</td>\n",
       "      <td>Baking Goods</td>\n",
       "      <td>1998</td>\n",
       "      <td>OUT027</td>\n",
       "      <td>Tier 3</td>\n",
       "      <td>Medium</td>\n",
       "      <td>Supermarket Type3</td>\n",
       "      <td>0.022830</td>\n",
       "      <td>NaN</td>\n",
       "      <td>241.0538</td>\n",
       "      <td>4.0</td>\n",
       "    </tr>\n",
       "    <tr>\n",
       "      <th>...</th>\n",
       "      <td>...</td>\n",
       "      <td>...</td>\n",
       "      <td>...</td>\n",
       "      <td>...</td>\n",
       "      <td>...</td>\n",
       "      <td>...</td>\n",
       "      <td>...</td>\n",
       "      <td>...</td>\n",
       "      <td>...</td>\n",
       "      <td>...</td>\n",
       "      <td>...</td>\n",
       "      <td>...</td>\n",
       "    </tr>\n",
       "    <tr>\n",
       "      <th>8518</th>\n",
       "      <td>low fat</td>\n",
       "      <td>NCT53</td>\n",
       "      <td>Health and Hygiene</td>\n",
       "      <td>1998</td>\n",
       "      <td>OUT027</td>\n",
       "      <td>Tier 3</td>\n",
       "      <td>Medium</td>\n",
       "      <td>Supermarket Type3</td>\n",
       "      <td>0.000000</td>\n",
       "      <td>NaN</td>\n",
       "      <td>164.5526</td>\n",
       "      <td>4.0</td>\n",
       "    </tr>\n",
       "    <tr>\n",
       "      <th>8519</th>\n",
       "      <td>low fat</td>\n",
       "      <td>FDN09</td>\n",
       "      <td>Snack Foods</td>\n",
       "      <td>1998</td>\n",
       "      <td>OUT027</td>\n",
       "      <td>Tier 3</td>\n",
       "      <td>Medium</td>\n",
       "      <td>Supermarket Type3</td>\n",
       "      <td>0.034706</td>\n",
       "      <td>NaN</td>\n",
       "      <td>241.6828</td>\n",
       "      <td>4.0</td>\n",
       "    </tr>\n",
       "    <tr>\n",
       "      <th>8520</th>\n",
       "      <td>low fat</td>\n",
       "      <td>DRE13</td>\n",
       "      <td>Soft Drinks</td>\n",
       "      <td>1998</td>\n",
       "      <td>OUT027</td>\n",
       "      <td>Tier 3</td>\n",
       "      <td>Medium</td>\n",
       "      <td>Supermarket Type3</td>\n",
       "      <td>0.027571</td>\n",
       "      <td>NaN</td>\n",
       "      <td>86.6198</td>\n",
       "      <td>4.0</td>\n",
       "    </tr>\n",
       "    <tr>\n",
       "      <th>8521</th>\n",
       "      <td>reg</td>\n",
       "      <td>FDT50</td>\n",
       "      <td>Dairy</td>\n",
       "      <td>1998</td>\n",
       "      <td>OUT027</td>\n",
       "      <td>Tier 3</td>\n",
       "      <td>Medium</td>\n",
       "      <td>Supermarket Type3</td>\n",
       "      <td>0.107715</td>\n",
       "      <td>NaN</td>\n",
       "      <td>97.8752</td>\n",
       "      <td>4.0</td>\n",
       "    </tr>\n",
       "    <tr>\n",
       "      <th>8522</th>\n",
       "      <td>reg</td>\n",
       "      <td>FDM58</td>\n",
       "      <td>Snack Foods</td>\n",
       "      <td>1998</td>\n",
       "      <td>OUT027</td>\n",
       "      <td>Tier 3</td>\n",
       "      <td>Medium</td>\n",
       "      <td>Supermarket Type3</td>\n",
       "      <td>0.000000</td>\n",
       "      <td>NaN</td>\n",
       "      <td>112.2544</td>\n",
       "      <td>4.0</td>\n",
       "    </tr>\n",
       "  </tbody>\n",
       "</table>\n",
       "<p>100 rows × 12 columns</p>\n",
       "</div>"
      ],
      "text/plain": [
       "     Item Fat Content Item Identifier           Item Type  \\\n",
       "8423          Low Fat           FDA22       Starchy Foods   \n",
       "8424          Low Fat           FDD11       Starchy Foods   \n",
       "8425          Low Fat           FDG59       Starchy Foods   \n",
       "8426          Regular           FDA47        Baking Goods   \n",
       "8427          Regular           FDB37        Baking Goods   \n",
       "...               ...             ...                 ...   \n",
       "8518          low fat           NCT53  Health and Hygiene   \n",
       "8519          low fat           FDN09         Snack Foods   \n",
       "8520          low fat           DRE13         Soft Drinks   \n",
       "8521              reg           FDT50               Dairy   \n",
       "8522              reg           FDM58         Snack Foods   \n",
       "\n",
       "      Outlet Establishment Year Outlet Identifier Outlet Location Type  \\\n",
       "8423                       1998            OUT027               Tier 3   \n",
       "8424                       1998            OUT027               Tier 3   \n",
       "8425                       1998            OUT027               Tier 3   \n",
       "8426                       1998            OUT027               Tier 3   \n",
       "8427                       1998            OUT027               Tier 3   \n",
       "...                         ...               ...                  ...   \n",
       "8518                       1998            OUT027               Tier 3   \n",
       "8519                       1998            OUT027               Tier 3   \n",
       "8520                       1998            OUT027               Tier 3   \n",
       "8521                       1998            OUT027               Tier 3   \n",
       "8522                       1998            OUT027               Tier 3   \n",
       "\n",
       "     Outlet Size        Outlet Type  Item Visibility  Item Weight     Sales  \\\n",
       "8423      Medium  Supermarket Type3         0.000000          NaN  167.5158   \n",
       "8424      Medium  Supermarket Type3         0.030468          NaN  254.7040   \n",
       "8425      Medium  Supermarket Type3         0.043025          NaN   37.6164   \n",
       "8426      Medium  Supermarket Type3         0.116109          NaN  164.1210   \n",
       "8427      Medium  Supermarket Type3         0.022830          NaN  241.0538   \n",
       "...          ...                ...              ...          ...       ...   \n",
       "8518      Medium  Supermarket Type3         0.000000          NaN  164.5526   \n",
       "8519      Medium  Supermarket Type3         0.034706          NaN  241.6828   \n",
       "8520      Medium  Supermarket Type3         0.027571          NaN   86.6198   \n",
       "8521      Medium  Supermarket Type3         0.107715          NaN   97.8752   \n",
       "8522      Medium  Supermarket Type3         0.000000          NaN  112.2544   \n",
       "\n",
       "      Rating  \n",
       "8423     4.0  \n",
       "8424     4.0  \n",
       "8425     4.0  \n",
       "8426     4.0  \n",
       "8427     4.0  \n",
       "...      ...  \n",
       "8518     4.0  \n",
       "8519     4.0  \n",
       "8520     4.0  \n",
       "8521     4.0  \n",
       "8522     4.0  \n",
       "\n",
       "[100 rows x 12 columns]"
      ]
     },
     "execution_count": 6,
     "metadata": {},
     "output_type": "execute_result"
    }
   ],
   "source": [
    "df.tail(100)"
   ]
  },
  {
   "cell_type": "markdown",
   "id": "24fcd5f4-28c3-4521-a3ef-be3fc591ce6b",
   "metadata": {},
   "source": [
    "### **Size of Data**"
   ]
  },
  {
   "cell_type": "code",
   "execution_count": 7,
   "id": "97f11c59-4ff3-4d47-8745-f4947b0a5984",
   "metadata": {},
   "outputs": [
    {
     "data": {
      "text/plain": [
       "(8523, 12)"
      ]
     },
     "execution_count": 7,
     "metadata": {},
     "output_type": "execute_result"
    }
   ],
   "source": [
    "df.shape"
   ]
  },
  {
   "cell_type": "code",
   "execution_count": 8,
   "id": "b32c7395-fc5b-4d85-8de4-1fbe68e7fd75",
   "metadata": {},
   "outputs": [
    {
     "name": "stdout",
     "output_type": "stream",
     "text": [
      "Size of Data: (8523, 12)\n"
     ]
    }
   ],
   "source": [
    "print(\"Size of Data:\",df.shape)"
   ]
  },
  {
   "cell_type": "markdown",
   "id": "d489084f-3529-466e-a258-b0c42b250939",
   "metadata": {},
   "source": [
    "### **Field information**"
   ]
  },
  {
   "cell_type": "code",
   "execution_count": 9,
   "id": "17166dc5-7aee-42fe-bd65-158738662e20",
   "metadata": {},
   "outputs": [
    {
     "data": {
      "text/plain": [
       "Index(['Item Fat Content', 'Item Identifier', 'Item Type',\n",
       "       'Outlet Establishment Year', 'Outlet Identifier',\n",
       "       'Outlet Location Type', 'Outlet Size', 'Outlet Type', 'Item Visibility',\n",
       "       'Item Weight', 'Sales', 'Rating'],\n",
       "      dtype='object')"
      ]
     },
     "execution_count": 9,
     "metadata": {},
     "output_type": "execute_result"
    }
   ],
   "source": [
    "df.columns"
   ]
  },
  {
   "cell_type": "markdown",
   "id": "7e479816-6c36-491b-8cc6-2ad3a6a09783",
   "metadata": {},
   "source": [
    "### **Data types**"
   ]
  },
  {
   "cell_type": "code",
   "execution_count": 10,
   "id": "4bfcb741-8cc5-4d42-b461-21a722b2e40d",
   "metadata": {},
   "outputs": [
    {
     "data": {
      "text/plain": [
       "Item Fat Content              object\n",
       "Item Identifier               object\n",
       "Item Type                     object\n",
       "Outlet Establishment Year      int64\n",
       "Outlet Identifier             object\n",
       "Outlet Location Type          object\n",
       "Outlet Size                   object\n",
       "Outlet Type                   object\n",
       "Item Visibility              float64\n",
       "Item Weight                  float64\n",
       "Sales                        float64\n",
       "Rating                       float64\n",
       "dtype: object"
      ]
     },
     "execution_count": 10,
     "metadata": {},
     "output_type": "execute_result"
    }
   ],
   "source": [
    "df.dtypes"
   ]
  },
  {
   "cell_type": "markdown",
   "id": "2cc16605-4301-473a-be34-a307461efad3",
   "metadata": {},
   "source": [
    "# **Data Cleaning**"
   ]
  },
  {
   "cell_type": "code",
   "execution_count": 11,
   "id": "aaa50668-f5cb-4420-9219-9418fb239263",
   "metadata": {},
   "outputs": [
    {
     "name": "stdout",
     "output_type": "stream",
     "text": [
      "['Regular' 'Low Fat' 'low fat' 'LF' 'reg']\n"
     ]
    }
   ],
   "source": [
    "print(df['Item Fat Content'].unique())"
   ]
  },
  {
   "cell_type": "code",
   "execution_count": 12,
   "id": "57c4dd56-f7d2-4474-b8cd-671a9f6b6d6e",
   "metadata": {},
   "outputs": [],
   "source": [
    "df['Item Fat Content'] = df['Item Fat Content'].replace({\n",
    "    'LF': 'Low Fat',\n",
    "    'low fat': 'Low Fat',\n",
    "    'reg': 'Regular'\n",
    "})"
   ]
  },
  {
   "cell_type": "code",
   "execution_count": 13,
   "id": "6fc7635e-9342-4639-9e09-17a6a1d7c3dc",
   "metadata": {},
   "outputs": [
    {
     "name": "stdout",
     "output_type": "stream",
     "text": [
      "['Regular' 'Low Fat']\n"
     ]
    }
   ],
   "source": [
    "print(df['Item Fat Content'].unique())"
   ]
  },
  {
   "cell_type": "markdown",
   "id": "fb1ca4d0-8e59-4111-ac0b-97032628e3f2",
   "metadata": {},
   "source": [
    "# **BUSINESS REQUIREMENT**"
   ]
  },
  {
   "cell_type": "markdown",
   "id": "e00f0200-b80f-4a4d-8b6d-bb32ed2ca6a3",
   "metadata": {},
   "source": [
    "### **KPI's REQUIREMENT**"
   ]
  },
  {
   "cell_type": "code",
   "execution_count": 14,
   "id": "309170e1-4361-4ec6-89d5-1d53c3dc9172",
   "metadata": {},
   "outputs": [],
   "source": [
    "#Total Sales\n",
    "total_sales = df['Sales'].sum()\n",
    "\n",
    "#Average Sales\n",
    "avg_sales = df['Sales'].mean()\n",
    "\n",
    "#No Of Items sold\n",
    "no_of_sales = df['Sales'].count()\n",
    "\n",
    "#Average Rating\n",
    "avg_rating = df['Rating'].mean()"
   ]
  },
  {
   "cell_type": "code",
   "execution_count": 15,
   "id": "a9d1ca2d-f408-44fe-bcd0-5b3eebb5ba26",
   "metadata": {},
   "outputs": [
    {
     "name": "stdout",
     "output_type": "stream",
     "text": [
      "Total Sales: $1201681.4808\n",
      "Average Sales: $140.9927819781767\n",
      "No of Sales: 8523\n",
      "Average rating: 3.965857092573038\n"
     ]
    }
   ],
   "source": [
    "print(f\"Total Sales: ${total_sales}\")\n",
    "print(f\"Average Sales: ${avg_sales}\")\n",
    "print(f\"No of Sales: {no_of_sales}\")\n",
    "print(f\"Average rating: {avg_rating}\")"
   ]
  },
  {
   "cell_type": "markdown",
   "id": "8fced1d8-8635-464c-a1e1-03039b2d04a4",
   "metadata": {},
   "source": [
    "# **CHARTS REQUIREMENT**"
   ]
  },
  {
   "cell_type": "markdown",
   "id": "a02fbef1-fe1a-4f70-af32-f438f0c8c545",
   "metadata": {},
   "source": [
    "### **Total sales by fat content**"
   ]
  },
  {
   "cell_type": "code",
   "execution_count": 17,
   "id": "6f52020d-259a-4337-bfc5-71fb772a2aa8",
   "metadata": {},
   "outputs": [
    {
     "data": {
      "image/png": "[encoded data removed]",
      "text/plain": [
       "<Figure size 640x480 with 1 Axes>"
      ]
     },
     "metadata": {},
     "output_type": "display_data"
    }
   ],
   "source": [
    "sales_by_fat = df.groupby('Item Fat Content')['Sales'].sum()\n",
    "\n",
    "plt.pie(sales_by_fat, labels = sales_by_fat.index, autopct ='%.1f%%', startangle =90)\n",
    "plt.title('Sales By Fat Content')\n",
    "plt.axis('equal')\n",
    "plt.show()"
   ]
  },
  {
   "cell_type": "markdown",
   "id": "8f948ac6-a9a7-4979-a271-e24c6c89436e",
   "metadata": {},
   "source": [
    "### **Total sales by item type**"
   ]
  },
  {
   "cell_type": "code",
   "execution_count": 18,
   "id": "44b6b8ee-2ec6-40b3-aafc-139a37783468",
   "metadata": {},
   "outputs": [
    {
     "data": {
      "image/png": "[encoded data removed]",
      "text/plain": [
       "<Figure size 1000x600 with 1 Axes>"
      ]
     },
     "metadata": {},
     "output_type": "display_data"
    }
   ],
   "source": [
    "sales_by_type = df.groupby('Item Type')['Sales'].sum().sort_values(ascending=False)\n",
    "\n",
    "plt.figure(figsize=(10, 6))\n",
    "bars = plt.bar(sales_by_type.index, sales_by_type.values)\n",
    "\n",
    "plt.xticks(rotation=90)\n",
    "plt.xlabel('Item Type')\n",
    "plt.ylabel('Total Sales')\n",
    "plt.title('Total Sales by Item Type')\n",
    "\n",
    "for bar in bars:\n",
    "    plt.text(bar.get_x() + bar.get_width() / 2, bar.get_height(),\n",
    "             f'{bar.get_height():,.0f}', ha='center', va='bottom', fontsize=8)\n",
    "\n",
    "plt.tight_layout()\n",
    "plt.show()"
   ]
  },
  {
   "cell_type": "markdown",
   "id": "978a752b-f7da-4cc5-9111-8c8fa9d9b5fd",
   "metadata": {},
   "source": [
    "### **Fat content by outlet for total sales**"
   ]
  },
  {
   "cell_type": "code",
   "execution_count": 19,
   "id": "f36e5c5d-ac1d-48f7-bbd5-45309dc03f07",
   "metadata": {},
   "outputs": [
    {
     "data": {
      "image/png": "[encoded data removed]",
      "text/plain": [
       "<Figure size 800x500 with 1 Axes>"
      ]
     },
     "metadata": {},
     "output_type": "display_data"
    }
   ],
   "source": [
    "grouped = df.groupby(['Outlet Location Type', 'Item Fat Content'])['Sales'].sum().unstack()\n",
    "grouped = grouped[['Regular', 'Low Fat']]\n",
    "\n",
    "ax = grouped.plot(kind='bar', figsize=(8, 5), title='Outlet Tier by Item Fat Content')\n",
    "plt.xlabel('Outlet Location Tier')\n",
    "plt.ylabel('Total Sales')\n",
    "plt.legend(title='Item Fat Content')\n",
    "plt.tight_layout()\n",
    "plt.show()"
   ]
  },
  {
   "cell_type": "markdown",
   "id": "045c47d9-3b3b-4318-ab0d-1fd68598138f",
   "metadata": {},
   "source": [
    "### **Total sales by Outlet Establishment**"
   ]
  },
  {
   "cell_type": "code",
   "execution_count": 20,
   "id": "f62e71eb-b346-4a69-b2f9-14138ca4c0f7",
   "metadata": {},
   "outputs": [
    {
     "data": {
      "image/png": "[encoded data removed]",
      "text/plain": [
       "<Figure size 900x500 with 1 Axes>"
      ]
     },
     "metadata": {},
     "output_type": "display_data"
    }
   ],
   "source": [
    "sales_by_year = df.groupby('Outlet Establishment Year')['Sales'].sum().sort_index()\n",
    "\n",
    "plt.figure(figsize=(9, 5))\n",
    "plt.plot(sales_by_year.index, sales_by_year.values, marker='o', linestyle='-')\n",
    "\n",
    "plt.xlabel('Outlet Establishment Year')\n",
    "plt.ylabel('Total Sales')\n",
    "plt.title('Outlet Establishment')\n",
    "\n",
    "for x, y in zip(sales_by_year.index, sales_by_year.values):\n",
    "    plt.text(x, y, f'{y:.0f}', ha='center', va='bottom', fontsize=8)\n",
    "\n",
    "plt.tight_layout()\n",
    "plt.show()\n"
   ]
  },
  {
   "cell_type": "markdown",
   "id": "709dfabd-d658-4e88-becf-e714310eeb1d",
   "metadata": {},
   "source": [
    "### **Sales by outlet size**"
   ]
  },
  {
   "cell_type": "code",
   "execution_count": 22,
   "id": "d03556d9-1420-4b11-8f8b-75c54fb8a412",
   "metadata": {},
   "outputs": [
    {
     "data": {
      "image/png": "[encoded data removed]",
      "text/plain": [
       "<Figure size 400x400 with 1 Axes>"
      ]
     },
     "metadata": {},
     "output_type": "display_data"
    }
   ],
   "source": [
    "sales_by_size = df.groupby('Outlet Size')['Sales'].sum()\n",
    "\n",
    "plt.figure(figsize=(4, 4))\n",
    "plt.pie(sales_by_size, labels=sales_by_size.index, autopct='%1.1f%%', startangle=90)\n",
    "plt.title('Outlet Size')\n",
    "plt.tight_layout()\n",
    "plt.show()"
   ]
  },
  {
   "cell_type": "markdown",
   "id": "a1fcc877-a71b-40f1-a15e-703bc5ada29b",
   "metadata": {},
   "source": [
    "### **Sales by outlet location**"
   ]
  },
  {
   "cell_type": "code",
   "execution_count": 24,
   "id": "1cc36840-a347-47bb-9e73-c9e318f05083",
   "metadata": {},
   "outputs": [
    {
     "data": {
      "image/png": "[encoded data removed]",
      "text/plain": [
       "<Figure size 800x400 with 1 Axes>"
      ]
     },
     "metadata": {},
     "output_type": "display_data"
    }
   ],
   "source": [
    "sales_by_location = df.groupby('Outlet Location Type')['Sales'].sum().reset_index()\n",
    "sales_by_location = sales_by_location.sort_values('Sales', ascending=False)\n",
    "\n",
    "plt.figure(figsize=(8, 4))\n",
    "ax = sns.barplot(x='Outlet Location Type', y='Sales', data=sales_by_location)\n",
    "\n",
    "plt.title('Total Sales by Outlet Location Type')\n",
    "plt.xlabel('Outlet Location Type')\n",
    "plt.ylabel('Total Sales')\n",
    "\n",
    "plt.tight_layout()\n",
    "plt.show()"
   ]
  },
  {
   "cell_type": "code",
   "execution_count": null,
   "id": "a1b6d1a9-9734-44da-a306-129a978f6e39",
   "metadata": {},
   "outputs": [],
   "source": []
  }
 ],
 "metadata": {
  "kernelspec": {
   "display_name": "Python 3 (ipykernel)",
   "language": "python",
   "name": "python3"
  },
  "language_info": {
   "codemirror_mode": {
    "name": "ipython",
    "version": 3
   },
   "file_extension": ".py",
   "mimetype": "text/x-python",
   "name": "python",
   "nbconvert_exporter": "python",
   "pygments_lexer": "ipython3",
   "version": "3.13.5"
  }
 },
 "nbformat": 4,
 "nbformat_minor": 5
}
